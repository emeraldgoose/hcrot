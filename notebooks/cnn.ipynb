{
 "cells": [
  {
   "cell_type": "code",
   "execution_count": 1,
   "id": "f5be98e7",
   "metadata": {},
   "outputs": [],
   "source": [
    "import warnings\n",
    "warnings.filterwarnings(action='ignore')"
   ]
  },
  {
   "cell_type": "code",
   "execution_count": null,
   "id": "5ba25ce4",
   "metadata": {},
   "outputs": [],
   "source": [
    "import os\n",
    "os.chdir(os.path.dirname(os.getcwd()))"
   ]
  },
  {
   "cell_type": "code",
   "execution_count": 2,
   "id": "908c1dc3",
   "metadata": {},
   "outputs": [],
   "source": [
    "import numpy as np\n",
    "import pandas as pd\n",
    "from tqdm.auto import tqdm\n",
    "\n",
    "from hcrot import layers, optim\n",
    "from hcrot.dataset import *\n",
    "from hcrot.utils import *"
   ]
  },
  {
   "cell_type": "code",
   "execution_count": 3,
   "id": "306fda7a",
   "metadata": {},
   "outputs": [],
   "source": [
    "lr_rate= 1e-2\n",
    "epochs = 10"
   ]
  },
  {
   "cell_type": "code",
   "execution_count": null,
   "id": "cb79fd3d",
   "metadata": {},
   "outputs": [
    {
     "data": {
      "text/plain": [
       "((5000, 1, 28, 28), (1000, 1, 28, 28))"
      ]
     },
     "execution_count": 4,
     "metadata": {},
     "output_type": "execute_result"
    }
   ],
   "source": [
    "df = pd.read_csv(\"./datasets/mnist_test.csv\")\n",
    "label = df['7'].to_numpy()\n",
    "df = df.drop('7', axis=1)\n",
    "dat = (df / 255.).to_numpy().astype(np.float32)\n",
    "\n",
    "dataset_len = len(dat)\n",
    "dat = dat.reshape(dataset_len, 1, 28, 28)\n",
    "\n",
    "train_image, test_image = dat[:5000], dat[8001:9001]\n",
    "train_label, test_label = label[:5000], label[8001:9001]\n",
    "\n",
    "train_image.shape, test_image.shape"
   ]
  },
  {
   "cell_type": "code",
   "execution_count": 5,
   "id": "5b5f069a",
   "metadata": {},
   "outputs": [
    {
     "data": {
      "text/plain": [
       "Text(0.5, 1.0, 'label: 9')"
      ]
     },
     "execution_count": 5,
     "metadata": {},
     "output_type": "execute_result"
    },
    {
     "data": {
      "image/png": "[encoded data removed]",
      "text/plain": [
       "<Figure size 640x480 with 2 Axes>"
      ]
     },
     "metadata": {},
     "output_type": "display_data"
    }
   ],
   "source": [
    "import matplotlib.pyplot as plt\n",
    "_, axs = plt.subplots(1,2)\n",
    "axs[0].imshow(train_image[0].reshape(28,28,1), cmap='gray') # (C,H,W) -> (H,W,C)\n",
    "axs[1].imshow(test_image[0].reshape(28,28,1), cmap='gray')\n",
    "axs[0].axis('off')\n",
    "axs[1].axis('off')\n",
    "axs[0].set_title(f'label: {train_label[0]}')\n",
    "axs[1].set_title(f'label: {test_label[0]}')"
   ]
  },
  {
   "cell_type": "code",
   "execution_count": 6,
   "id": "3c3556f6",
   "metadata": {},
   "outputs": [],
   "source": [
    "dataloader = Dataloader(train_image, train_label, batch_size=50, shuffle=True)\n",
    "testloader = Dataloader(test_image, test_label, batch_size=1, shuffle=False)"
   ]
  },
  {
   "cell_type": "code",
   "execution_count": 7,
   "id": "05aa7925",
   "metadata": {},
   "outputs": [],
   "source": [
    "class CNN(layers.Module):\n",
    "    def __init__(self, num_classes=10):\n",
    "        super().__init__()\n",
    "        self.layer1 = layers.Sequential(\n",
    "            layers.Conv2d(1,3,3),\n",
    "            layers.ReLU(),\n",
    "            layers.MaxPool2d(2,2)\n",
    "        )\n",
    "        self.layer2 = layers.Sequential(\n",
    "            layers.Conv2d(3,5,3),\n",
    "            layers.ReLU(),\n",
    "            layers.MaxPool2d(2,2)\n",
    "        )\n",
    "        self.flatten = layers.Flatten()\n",
    "        self.dropout = layers.Dropout(p=0.5)\n",
    "        self.fc = layers.Linear(125, num_classes)\n",
    "\n",
    "    def forward(self, x):\n",
    "        for module in self.layer1:\n",
    "            x = module(x)\n",
    "        for module in self.layer2:\n",
    "            x = module(x)\n",
    "        return self.fc(self.flatten(x))"
   ]
  },
  {
   "cell_type": "code",
   "execution_count": 8,
   "id": "b6e05415",
   "metadata": {},
   "outputs": [],
   "source": [
    "model = CNN()\n",
    "criterion = layers.CrossEntropyLoss()\n",
    "optimizer = optim.Adam(model, lr_rate=lr_rate)"
   ]
  },
  {
   "cell_type": "code",
   "execution_count": 9,
   "id": "2a7c5544",
   "metadata": {},
   "outputs": [
    {
     "name": "stdout",
     "output_type": "stream",
     "text": [
      "Epoch [1 / 10] | Loss: 1.032 | Acc: 0.882\n",
      "Epoch [2 / 10] | Loss: 0.351 | Acc: 0.924\n",
      "Epoch [3 / 10] | Loss: 0.258 | Acc: 0.936\n",
      "Epoch [4 / 10] | Loss: 0.220 | Acc: 0.960\n",
      "Epoch [5 / 10] | Loss: 0.189 | Acc: 0.963\n",
      "Epoch [6 / 10] | Loss: 0.175 | Acc: 0.967\n",
      "Epoch [7 / 10] | Loss: 0.164 | Acc: 0.962\n",
      "Epoch [8 / 10] | Loss: 0.155 | Acc: 0.964\n",
      "Epoch [9 / 10] | Loss: 0.145 | Acc: 0.959\n",
      "Epoch [10 / 10] | Loss: 0.135 | Acc: 0.955\n"
     ]
    }
   ],
   "source": [
    "for epoch in range(epochs):\n",
    "    total_loss, correct = 0, 0\n",
    "\n",
    "    model.train()\n",
    "    for images, labels in dataloader:\n",
    "        logits = model(images)\n",
    "        loss = criterion(logits, labels)\n",
    "\n",
    "        total_loss += loss.item()\n",
    "        dz = criterion.backward()\n",
    "        optimizer.update(dz)\n",
    "\n",
    "    model.eval()\n",
    "    for images, labels in testloader:\n",
    "        logits = model(images)\n",
    "        predictions = np.argmax(logits, axis=1)\n",
    "        correct += (predictions == labels).item()\n",
    "\n",
    "    print(f'Epoch [{epoch+1} / {epochs}] | Loss: {total_loss / len(dataloader):.3f} | Acc: {correct / len(testloader):.3f}')"
   ]
  }
 ],
 "metadata": {
  "kernelspec": {
   "display_name": "hcrot",
   "language": "python",
   "name": "python3"
  },
  "language_info": {
   "codemirror_mode": {
    "name": "ipython",
    "version": 3
   },
   "file_extension": ".py",
   "mimetype": "text/x-python",
   "name": "python",
   "nbconvert_exporter": "python",
   "pygments_lexer": "ipython3",
   "version": "3.12.5"
  }
 },
 "nbformat": 4,
 "nbformat_minor": 5
}
