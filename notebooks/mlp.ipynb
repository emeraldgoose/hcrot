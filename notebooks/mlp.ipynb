{
 "cells": [
  {
   "cell_type": "code",
   "execution_count": 1,
   "id": "7bd2f63f",
   "metadata": {},
   "outputs": [],
   "source": [
    "import warnings\n",
    "warnings.filterwarnings(action='ignore')\n"
   ]
  },
  {
   "cell_type": "code",
   "execution_count": 2,
   "id": "a9971d2a",
   "metadata": {},
   "outputs": [],
   "source": [
    "import os\n",
    "os.chdir(os.path.dirname(os.getcwd()))"
   ]
  },
  {
   "cell_type": "code",
   "execution_count": 3,
   "id": "8150d673",
   "metadata": {},
   "outputs": [],
   "source": [
    "import numpy as np\n",
    "import pandas as pd\n",
    "from tqdm.auto import tqdm\n",
    "\n",
    "from hcrot import layers, optim\n",
    "from hcrot.dataset import *\n",
    "from hcrot.utils import *"
   ]
  },
  {
   "cell_type": "code",
   "execution_count": 4,
   "id": "f0116122",
   "metadata": {},
   "outputs": [],
   "source": [
    "lr_rate = 1e-2\n",
    "hidden_size = 28\n",
    "epochs = 10"
   ]
  },
  {
   "cell_type": "code",
   "execution_count": 5,
   "id": "e1e10760",
   "metadata": {},
   "outputs": [],
   "source": [
    "df = pd.read_csv(\"./datasets/mnist_test.csv\")\n",
    "label = df['7'].to_numpy()\n",
    "df = df.drop('7', axis=1)\n",
    "dat = (df / 255.).to_numpy().astype(np.float32)"
   ]
  },
  {
   "cell_type": "code",
   "execution_count": 6,
   "id": "a28b187a",
   "metadata": {},
   "outputs": [],
   "source": [
    "train_image, test_image = dat[:5000], dat[8001:9001]\n",
    "train_label, test_label = label[:5000], label[8001:9001]"
   ]
  },
  {
   "cell_type": "code",
   "execution_count": 7,
   "id": "374db55a",
   "metadata": {},
   "outputs": [],
   "source": [
    "dataloader = Dataloader(train_image, train_label, batch_size=50, shuffle=True)\n",
    "testloader = Dataloader(test_image, test_label, batch_size=1, shuffle=False)"
   ]
  },
  {
   "cell_type": "code",
   "execution_count": 8,
   "id": "c70e6b35",
   "metadata": {},
   "outputs": [],
   "source": [
    "class Model(layers.Module):\n",
    "    def __init__(self, input_len=28*28, hidden_size=512, num_classes=10):\n",
    "        super().__init__()\n",
    "        self.layer1 = layers.Sequential(\n",
    "            layers.Linear(in_features=input_len, out_features=hidden_size),\n",
    "            layers.Sigmoid(),\n",
    "            layers.Dropout(p=0.5)\n",
    "        )\n",
    "        self.layer2 = layers.Sequential(\n",
    "            layers.Linear(in_features=hidden_size, out_features=hidden_size),\n",
    "            layers.Sigmoid()\n",
    "        )\n",
    "        self.fc = layers.Linear(in_features=hidden_size, out_features=num_classes)\n",
    "\n",
    "    def forward(self, x):\n",
    "        for module in self.layer1:\n",
    "            x = module(x)\n",
    "        for module in self.layer2:\n",
    "            x = module(x)\n",
    "        return self.fc(x)"
   ]
  },
  {
   "cell_type": "code",
   "execution_count": 9,
   "id": "d7ffa0c8",
   "metadata": {},
   "outputs": [],
   "source": [
    "model = Model(input_len=28*28, hidden_size=hidden_size, num_classes=10)\n",
    "criterion = layers.CrossEntropyLoss()\n",
    "optimizer = optim.Adam(model, lr_rate=lr_rate)"
   ]
  },
  {
   "cell_type": "code",
   "execution_count": 10,
   "id": "050e52dc",
   "metadata": {},
   "outputs": [
    {
     "name": "stdout",
     "output_type": "stream",
     "text": [
      "Epoch [1 / 10] | Loss: 1.649 | Acc: 0.774\n",
      "Epoch [2 / 10] | Loss: 0.930 | Acc: 0.899\n",
      "Epoch [3 / 10] | Loss: 0.754 | Acc: 0.908\n",
      "Epoch [4 / 10] | Loss: 0.659 | Acc: 0.913\n",
      "Epoch [5 / 10] | Loss: 0.628 | Acc: 0.925\n",
      "Epoch [6 / 10] | Loss: 0.592 | Acc: 0.921\n",
      "Epoch [7 / 10] | Loss: 0.577 | Acc: 0.918\n",
      "Epoch [8 / 10] | Loss: 0.550 | Acc: 0.925\n",
      "Epoch [9 / 10] | Loss: 0.522 | Acc: 0.942\n",
      "Epoch [10 / 10] | Loss: 0.491 | Acc: 0.938\n"
     ]
    }
   ],
   "source": [
    "for epoch in range(epochs):\n",
    "    total_loss, correct = 0, 0\n",
    "\n",
    "    model.train()\n",
    "    for images, labels in dataloader:\n",
    "        logits = model(images)\n",
    "        loss = criterion(logits, labels)\n",
    "\n",
    "        total_loss += loss.item()\n",
    "        dz = criterion.backward()\n",
    "        optimizer.update(dz)\n",
    "    \n",
    "    model.eval()\n",
    "    for images, labels in testloader:\n",
    "        logits = model(images)\n",
    "        predictions = np.argmax(logits, axis=1)\n",
    "        correct += (predictions == labels).item()\n",
    "    \n",
    "    print(f'Epoch [{epoch+1} / {epochs}] | Loss: {total_loss / len(dataloader):.3f} | Acc: {correct / len(testloader):.3f}')"
   ]
  }
 ],
 "metadata": {
  "kernelspec": {
   "display_name": "hcrot",
   "language": "python",
   "name": "python3"
  },
  "language_info": {
   "codemirror_mode": {
    "name": "ipython",
    "version": 3
   },
   "file_extension": ".py",
   "mimetype": "text/x-python",
   "name": "python",
   "nbconvert_exporter": "python",
   "pygments_lexer": "ipython3",
   "version": "3.12.5"
  }
 },
 "nbformat": 4,
 "nbformat_minor": 5
}
