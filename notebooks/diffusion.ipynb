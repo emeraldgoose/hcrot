{
 "cells": [
  {
   "cell_type": "code",
   "execution_count": null,
   "id": "68ddbd3a",
   "metadata": {},
   "outputs": [],
   "source": [
    "import warnings\n",
    "warnings.filterwarnings(action='ignore')"
   ]
  },
  {
   "cell_type": "code",
   "execution_count": null,
   "id": "c7b65d79",
   "metadata": {},
   "outputs": [],
   "source": [
    "import os\n",
    "os.chdir(os.path.dirname(os.getcwd()))"
   ]
  },
  {
   "cell_type": "code",
   "execution_count": 1,
   "id": "3cf93fd2",
   "metadata": {},
   "outputs": [],
   "source": [
    "from typing import *\n",
    "from typing_extensions import *\n",
    "from numpy.typing import *\n",
    "\n",
    "import numpy as np\n",
    "import pandas as pd\n",
    "import matplotlib.pyplot as plt\n",
    "from tqdm import tqdm, trange\n",
    "\n",
    "import hcrot\n",
    "from hcrot import layers"
   ]
  },
  {
   "cell_type": "code",
   "execution_count": null,
   "id": "f7897f8e",
   "metadata": {},
   "outputs": [],
   "source": [
    "class Model(layers.Module):\n",
    "    def __init__(self):\n",
    "        super().__init__()\n",
    "        self.unet = layers.UNetModel(\n",
    "            sample_size=14,\n",
    "            in_channels=1,\n",
    "            out_channels=1,\n",
    "            block_out_channels=(32,64,32),\n",
    "            num_class_embeds=10,\n",
    "        )\n",
    "\n",
    "    def forward(self, x_noisy, t, labels):\n",
    "        noise_pred = self.unet(x_noisy, t, labels)\n",
    "        return noise_pred"
   ]
  },
  {
   "cell_type": "code",
   "execution_count": null,
   "id": "7b76f0a1",
   "metadata": {},
   "outputs": [
    {
     "name": "stderr",
     "output_type": "stream",
     "text": [
      "100%|██████████| 10/10 [2:24:28<00:00, 866.80s/it, loss=0.0728] \n"
     ]
    }
   ],
   "source": [
    "batch_size = 512\n",
    "num_epochs = 10\n",
    "timesteps = 1000\n",
    "lr = 1e-4\n",
    "\n",
    "def average_pooling(img, pool_size=2):\n",
    "    B, C, H, W = img.shape\n",
    "    new_H, new_W = H // pool_size, W // pool_size\n",
    "    img = img[:,:,:new_H * pool_size, :new_W * pool_size]\n",
    "    img_reshaped = img.reshape(B, C, new_H, pool_size, new_W, pool_size)\n",
    "    downsampled = img_reshaped.mean(axis=(3, 5))\n",
    "    return downsampled\n",
    "\n",
    "# MNIST 데이터 로드\n",
    "df = pd.read_csv('./datasets/mnist_test.csv')\n",
    "label = df['7'].to_numpy()\n",
    "df = df.drop('7',axis=1)\n",
    "dat = df.to_numpy()\n",
    "\n",
    "mnist = dat[:batch_size * 10]\n",
    "train_label = label[:batch_size * 10]\n",
    "mnist = mnist.reshape(-1,1,28,28).astype(np.float32)\n",
    "mnist = (mnist / 255.) * 2. - 1.\n",
    "mnist = average_pooling(mnist, 2) # resize\n",
    "dataloader = hcrot.dataset.Dataloader(mnist, train_label, batch_size=batch_size, shuffle=True)\n",
    "\n",
    "# Model, Optimizer, Loss\n",
    "model = Model()\n",
    "# model.load_state_dict(hcrot.utils.load('datasets/artifact.pkl'))\n",
    "optimizer = hcrot.optim.AdamW(model, lr_rate=lr)\n",
    "criterion = layers.MSELoss()\n",
    "\n",
    "noise_scheduler = layers.DDPMScheduler(num_train_timesteps=timesteps, beta_schedule=\"squaredcos_cap_v2\")\n",
    "\n",
    "pbar = trange(num_epochs)\n",
    "for epoch in pbar:\n",
    "    total_loss = 0\n",
    "    for i, (x, label) in enumerate(dataloader):\n",
    "        timestep = np.random.randint(0, timesteps, (x.shape[0],))\n",
    "        # x_noisy, noise = q_sample(x, t)\n",
    "\n",
    "        noise = np.random.randn(*x.shape)\n",
    "        noisy_x = noise_scheduler.add_noise(x, noise, timestep)\n",
    "\n",
    "        noise_pred = model(noisy_x, timestep, label)\n",
    "        loss = criterion(noise_pred, noise)\n",
    "        total_loss += loss.item()\n",
    "        \n",
    "        dz = criterion.backward()\n",
    "        optimizer.update(dz)\n",
    "    \n",
    "    pbar.set_postfix(loss=total_loss/(i+1))"
   ]
  },
  {
   "cell_type": "code",
   "execution_count": 17,
   "id": "5e771c19",
   "metadata": {},
   "outputs": [],
   "source": [
    "hcrot.utils.save(model.state_dict(), 'artifact.pkl')"
   ]
  },
  {
   "cell_type": "code",
   "execution_count": 6,
   "id": "15023352",
   "metadata": {},
   "outputs": [],
   "source": [
    "batch_size = 1\n",
    "scheduler = layers.DDPMScheduler(beta_schedule=\"squaredcos_cap_v2\", num_train_timesteps=1000)\n",
    "\n",
    "def average_pooling(img, pool_size=2):\n",
    "    B, C, H, W = img.shape\n",
    "    new_H, new_W = H // pool_size, W // pool_size\n",
    "    img = img[:,:,:new_H * pool_size, :new_W * pool_size]\n",
    "    img_reshaped = img.reshape(B, C, new_H, pool_size, new_W, pool_size)\n",
    "    downsampled = img_reshaped.mean(axis=(3, 5))\n",
    "    return downsampled\n",
    "\n",
    "# MNIST 데이터 로드\n",
    "df = pd.read_csv('./datasets/mnist_test.csv')\n",
    "label = df['7'].to_numpy()\n",
    "df = df.drop('7',axis=1)\n",
    "dat = df.to_numpy()\n",
    "\n",
    "mnist = dat[:batch_size * 10]\n",
    "train_label = label[:batch_size * 10]\n",
    "mnist = mnist.reshape(-1,1,28,28).astype(np.float32)\n",
    "mnist = (mnist / 255.) * 2. - 1.\n",
    "mnist = average_pooling(mnist, 2) # resize\n",
    "\n",
    "image = mnist[0].copy()\n",
    "record_steps = [0, 100, 300, 500, 700, 900, 999]\n",
    "\n",
    "forward_process = []\n",
    "for timestep in np.arange(1000):\n",
    "    noise = np.random.randn(*image.shape)\n",
    "    noisy_image = scheduler.add_noise(image, noise, timestep)\n",
    "    if timestep in record_steps:\n",
    "        forward_process.append(noisy_image)\n"
   ]
  },
  {
   "cell_type": "code",
   "execution_count": 15,
   "id": "b6e3dac4",
   "metadata": {},
   "outputs": [
    {
     "data": {
      "image/png": "[encoded data removed]",
      "text/plain": [
       "<Figure size 1000x300 with 7 Axes>"
      ]
     },
     "metadata": {},
     "output_type": "display_data"
    }
   ],
   "source": [
    "fig, ax = plt.subplots(1, len(record_steps), figsize=(10, 3))\n",
    "for i, img in enumerate(forward_process):\n",
    "    img = img.reshape(14,14,1)\n",
    "    ax[i].imshow((img + 1) / 2, cmap='gray')\n",
    "    ax[i].axis('off')\n",
    "    ax[i].set_title(f\"Step: {record_steps[i]}\")\n",
    "plt.tight_layout()\n",
    "plt.show()"
   ]
  },
  {
   "cell_type": "code",
   "execution_count": null,
   "id": "e66e4577",
   "metadata": {},
   "outputs": [
    {
     "name": "stderr",
     "output_type": "stream",
     "text": [
      "100%|██████████| 800/800 [00:19<00:00, 40.46it/s]\n"
     ]
    },
    {
     "data": {
      "image/png": "[encoded data removed]",
      "text/plain": [
       "<Figure size 1000x300 with 6 Axes>"
      ]
     },
     "metadata": {},
     "output_type": "display_data"
    }
   ],
   "source": [
    "model = Model()\n",
    "model.load_state_dict(hcrot.utils.load('datasets/artifact.pkl'))\n",
    "\n",
    "scheulder = layers.DDPMScheduler(beta_schedule=\"squaredcos_cap_v2\", num_train_timesteps=1000)\n",
    "scheulder.set_timesteps(num_inference_steps=800)\n",
    "record_steps = [0, 100, 300, 500, 700, 799]\n",
    "\n",
    "def inference(label, record_steps):\n",
    "    latents = np.random.randn(1,1,14,14)\n",
    "    label = np.array([i])\n",
    "\n",
    "    reverse_process = []\n",
    "    for t in tqdm(scheulder.timesteps):\n",
    "        latent_model_input = scheulder.scale_model_input(latents, t)\n",
    "        noise_pred = model(latent_model_input, t, label)\n",
    "        latents = scheulder.step(noise_pred, t, latents).prev_sample\n",
    "\n",
    "        if t in record_steps:\n",
    "            image = (latents / 2 + 0.5).clip(0, 1)\n",
    "            image = np.squeeze(image)\n",
    "            reverse_process.append(image)\n",
    "        \n",
    "    return reverse_process\n",
    "\n",
    "reverse_process = inference(5, record_steps)\n",
    "\n",
    "fig, ax = plt.subplots(1, len(record_steps), figsize=(10, 3))\n",
    "for i, img in enumerate(reverse_process):\n",
    "    img = img.reshape(14,14,1)\n",
    "    ax[i].imshow((img + 1) / 2, cmap='gray')\n",
    "    ax[i].axis('off')\n",
    "    ax[i].set_title(f\"Step: {record_steps[i]}\")\n",
    "plt.tight_layout()\n",
    "plt.show()"
   ]
  },
  {
   "cell_type": "code",
   "execution_count": null,
   "id": "be56910b",
   "metadata": {},
   "outputs": [
    {
     "name": "stderr",
     "output_type": "stream",
     "text": [
      "label_0: 100%|██████████| 800/800 [00:33<00:00, 23.95it/s]\n",
      "label_1: 100%|██████████| 800/800 [00:27<00:00, 29.33it/s]\n",
      "label_2: 100%|██████████| 800/800 [00:19<00:00, 40.56it/s]\n",
      "label_3: 100%|██████████| 800/800 [00:20<00:00, 38.64it/s]\n",
      "label_4: 100%|██████████| 800/800 [00:19<00:00, 40.44it/s]\n",
      "label_5: 100%|██████████| 800/800 [00:19<00:00, 40.38it/s]\n",
      "label_6: 100%|██████████| 800/800 [00:21<00:00, 37.74it/s]\n",
      "label_7: 100%|██████████| 800/800 [00:26<00:00, 30.66it/s]\n",
      "label_8: 100%|██████████| 800/800 [00:29<00:00, 26.78it/s]\n",
      "label_9: 100%|██████████| 800/800 [00:25<00:00, 30.93it/s]\n"
     ]
    }
   ],
   "source": [
    "model = Model()\n",
    "model.load_state_dict(hcrot.utils.load('datasets/artifact.pkl'))\n",
    "\n",
    "scheulder = layers.DDPMScheduler(beta_schedule=\"squaredcos_cap_v2\", num_train_timesteps=1000)\n",
    "scheulder.set_timesteps(num_inference_steps=800)\n",
    "\n",
    "all_images = []\n",
    "for i in range(10):\n",
    "    latents = np.random.randn(1,1,14,14)\n",
    "    label = np.array([i])\n",
    "\n",
    "    for t in tqdm(scheulder.timesteps, desc=f\"label_{i}\"):\n",
    "        latent_model_input = scheulder.scale_model_input(latents, t)\n",
    "        noise_pred = model(latent_model_input, t, label)\n",
    "        latents = scheulder.step(noise_pred, t, latents).prev_sample\n",
    "\n",
    "    image = (latents / 2 + 0.5).clip(0, 1)\n",
    "    image = np.squeeze(image)\n",
    "    image = (image * 255).round().astype(\"uint8\")\n",
    "    all_images.append(image)"
   ]
  },
  {
   "cell_type": "code",
   "execution_count": 53,
   "id": "27bfbd56",
   "metadata": {},
   "outputs": [
    {
     "data": {
      "image/png": "[encoded data removed]",
      "text/plain": [
       "<Figure size 1000x1000 with 10 Axes>"
      ]
     },
     "metadata": {},
     "output_type": "display_data"
    }
   ],
   "source": [
    "fig, axs = plt.subplots(1, 10, figsize=(10,10))\n",
    "for i, img in enumerate(all_images):\n",
    "    img = img.reshape(14,14,1)\n",
    "    axs[i].imshow(img, cmap='gray')\n",
    "    axs[i].axis('off')\n",
    "plt.tight_layout()\n",
    "plt.show()"
   ]
  }
 ],
 "metadata": {
  "kernelspec": {
   "display_name": "hcrot",
   "language": "python",
   "name": "python3"
  },
  "language_info": {
   "codemirror_mode": {
    "name": "ipython",
    "version": 3
   },
   "file_extension": ".py",
   "mimetype": "text/x-python",
   "name": "python",
   "nbconvert_exporter": "python",
   "pygments_lexer": "ipython3",
   "version": "3.12.5"
  }
 },
 "nbformat": 4,
 "nbformat_minor": 5
}
