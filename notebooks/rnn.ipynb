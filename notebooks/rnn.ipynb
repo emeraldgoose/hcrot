{
 "cells": [
  {
   "cell_type": "code",
   "execution_count": null,
   "id": "b618a133",
   "metadata": {},
   "outputs": [],
   "source": [
    "import warnings\n",
    "warnings.filterwarnings(action='ignore')"
   ]
  },
  {
   "cell_type": "code",
   "execution_count": null,
   "id": "1018e970",
   "metadata": {},
   "outputs": [],
   "source": [
    "import os\n",
    "os.chdir(os.path.dirname(os.getcwd()))"
   ]
  },
  {
   "cell_type": "code",
   "execution_count": 2,
   "id": "b0ed676c",
   "metadata": {},
   "outputs": [],
   "source": [
    "import numpy as np\n",
    "import pandas as pd\n",
    "from tqdm.auto import tqdm\n",
    "\n",
    "from hcrot import layers, optim\n",
    "from hcrot.dataset import *\n",
    "from hcrot.utils import *"
   ]
  },
  {
   "cell_type": "code",
   "execution_count": 3,
   "id": "d41c7b59",
   "metadata": {},
   "outputs": [],
   "source": [
    "lr_rate = 1e-3\n",
    "hidden_size = 256\n",
    "epochs = 10"
   ]
  },
  {
   "cell_type": "code",
   "execution_count": 4,
   "id": "0826477d",
   "metadata": {},
   "outputs": [],
   "source": [
    "df = pd.read_csv(\"./datasets/mnist_test.csv\")\n",
    "label = df['7'].to_numpy()\n",
    "df = df.drop('7', axis=1)\n",
    "dat = (df / 255.).to_numpy()\n",
    "\n",
    "dataset_len = len(dat)\n",
    "dat = dat.reshape(dataset_len, 28, 28).astype(np.float32)"
   ]
  },
  {
   "cell_type": "code",
   "execution_count": 5,
   "id": "e799e0f1",
   "metadata": {},
   "outputs": [],
   "source": [
    "train_image, test_image = dat[:5000], dat[8001:9001]\n",
    "train_label, test_label = label[:5000], label[8001:9001]"
   ]
  },
  {
   "cell_type": "code",
   "execution_count": 6,
   "id": "d62f0819",
   "metadata": {},
   "outputs": [],
   "source": [
    "dataloader = Dataloader(train_image, train_label, batch_size=50, shuffle=True)\n",
    "testloader = Dataloader(test_image, test_label, batch_size=1, shuffle=False)"
   ]
  },
  {
   "cell_type": "markdown",
   "id": "2cb59e65",
   "metadata": {},
   "source": [
    "### RNN"
   ]
  },
  {
   "cell_type": "code",
   "execution_count": null,
   "id": "e4f07957",
   "metadata": {},
   "outputs": [],
   "source": [
    "class RNN(layers.Module):\n",
    "    def __init__(self, hidden_size=32, num_classes=10):\n",
    "        super().__init__()\n",
    "        self.rnn = layers.RNN(\n",
    "            input_size=28,\n",
    "            hidden_size=hidden_size,\n",
    "            num_layers=1,\n",
    "            nonlinearity='tanh', # or 'relu'\n",
    "            batch_first=True\n",
    "        )\n",
    "        self.fc = layers.Linear(hidden_size, num_classes)\n",
    "\n",
    "    def forward(self, x):\n",
    "        x, _ = self.rnn(x)\n",
    "        return self.fc(x[:,-1,:])"
   ]
  },
  {
   "cell_type": "code",
   "execution_count": 8,
   "id": "c61e9a13",
   "metadata": {},
   "outputs": [],
   "source": [
    "model = RNN(hidden_size=hidden_size, num_classes=10)\n",
    "criterion = layers.CrossEntropyLoss()\n",
    "optimizer = optim.Adam(model, lr_rate=lr_rate)"
   ]
  },
  {
   "cell_type": "code",
   "execution_count": 9,
   "id": "ada3bd99",
   "metadata": {},
   "outputs": [
    {
     "name": "stdout",
     "output_type": "stream",
     "text": [
      "Epoch [1 / 10] | Loss: 1.446 | Acc: 0.702\n",
      "Epoch [2 / 10] | Loss: 0.908 | Acc: 0.772\n",
      "Epoch [3 / 10] | Loss: 0.785 | Acc: 0.802\n",
      "Epoch [4 / 10] | Loss: 0.708 | Acc: 0.848\n",
      "Epoch [5 / 10] | Loss: 0.622 | Acc: 0.806\n",
      "Epoch [6 / 10] | Loss: 0.558 | Acc: 0.816\n",
      "Epoch [7 / 10] | Loss: 0.470 | Acc: 0.817\n",
      "Epoch [8 / 10] | Loss: 0.472 | Acc: 0.873\n",
      "Epoch [9 / 10] | Loss: 0.459 | Acc: 0.820\n",
      "Epoch [10 / 10] | Loss: 0.381 | Acc: 0.906\n"
     ]
    }
   ],
   "source": [
    "for epoch in range(epochs):\n",
    "    total_loss, correct = 0, 0\n",
    "\n",
    "    model.train()\n",
    "    for images, labels in dataloader:\n",
    "        logits = model(images)\n",
    "        loss = criterion(logits, labels)\n",
    "        \n",
    "        total_loss += loss.item()\n",
    "        dz = criterion.backward()\n",
    "        optimizer.update(dz)\n",
    "\n",
    "    model.eval()\n",
    "    for images, labels in testloader:\n",
    "        logits = model(images)\n",
    "        predictions = np.argmax(logits, axis=1)\n",
    "        correct += (predictions == labels).item()\n",
    "\n",
    "    print(f'Epoch [{epoch+1} / {epochs}] | Loss: {total_loss / len(dataloader):.3f} | Acc: {correct / len(testloader):.3f}')"
   ]
  },
  {
   "cell_type": "markdown",
   "id": "2af5c7c1",
   "metadata": {},
   "source": [
    "### LSTM"
   ]
  },
  {
   "cell_type": "code",
   "execution_count": 10,
   "id": "91da7e17",
   "metadata": {},
   "outputs": [],
   "source": [
    "class LSTM(layers.Module):\n",
    "    def __init__(self, hidden_size=32, num_classes=10):\n",
    "        super().__init__()\n",
    "        self.lstm = layers.LSTM(\n",
    "            input_size=28,\n",
    "            hidden_size=hidden_size,\n",
    "            num_layers=1,\n",
    "            batch_first=True\n",
    "        )\n",
    "        self.fc = layers.Linear(hidden_size, num_classes)\n",
    "    \n",
    "    def forward(self, x):\n",
    "        x, _, _ = self.lstm(x)\n",
    "        return self.fc(x[:,-1,:])"
   ]
  },
  {
   "cell_type": "code",
   "execution_count": 11,
   "id": "2ebba586",
   "metadata": {},
   "outputs": [],
   "source": [
    "model = LSTM(hidden_size=hidden_size, num_classes=10)\n",
    "criterion = layers.CrossEntropyLoss()\n",
    "optimizer = optim.Adam(model, lr_rate=lr_rate)"
   ]
  },
  {
   "cell_type": "code",
   "execution_count": 12,
   "id": "6f619557",
   "metadata": {},
   "outputs": [
    {
     "name": "stdout",
     "output_type": "stream",
     "text": [
      "Epoch [1 / 10] | Loss: 1.554 | Acc: 0.685\n",
      "Epoch [2 / 10] | Loss: 0.861 | Acc: 0.780\n",
      "Epoch [3 / 10] | Loss: 0.649 | Acc: 0.851\n",
      "Epoch [4 / 10] | Loss: 0.482 | Acc: 0.913\n",
      "Epoch [5 / 10] | Loss: 0.356 | Acc: 0.953\n",
      "Epoch [6 / 10] | Loss: 0.266 | Acc: 0.951\n",
      "Epoch [7 / 10] | Loss: 0.217 | Acc: 0.914\n",
      "Epoch [8 / 10] | Loss: 0.215 | Acc: 0.924\n",
      "Epoch [9 / 10] | Loss: 0.165 | Acc: 0.932\n",
      "Epoch [10 / 10] | Loss: 0.147 | Acc: 0.939\n"
     ]
    }
   ],
   "source": [
    "for epoch in range(epochs):\n",
    "    total_loss, correct = 0, 0\n",
    "\n",
    "    model.train()\n",
    "    for images, labels in dataloader:\n",
    "        logits = model(images)\n",
    "        loss = criterion(logits, labels)\n",
    "        \n",
    "        total_loss += loss.item()\n",
    "        dz = criterion.backward()\n",
    "        optimizer.update(dz)\n",
    "\n",
    "    model.eval()\n",
    "    for images, labels in testloader:\n",
    "        logits = model(images)\n",
    "        predictions = np.argmax(logits, axis=1)\n",
    "        correct += (predictions == labels).item()\n",
    "\n",
    "    print(f'Epoch [{epoch+1} / {epochs}] | Loss: {total_loss / len(dataloader):.3f} | Acc: {correct / len(testloader):.3f}')"
   ]
  }
 ],
 "metadata": {
  "kernelspec": {
   "display_name": "hcrot",
   "language": "python",
   "name": "python3"
  },
  "language_info": {
   "codemirror_mode": {
    "name": "ipython",
    "version": 3
   },
   "file_extension": ".py",
   "mimetype": "text/x-python",
   "name": "python",
   "nbconvert_exporter": "python",
   "pygments_lexer": "ipython3",
   "version": "3.12.5"
  }
 },
 "nbformat": 4,
 "nbformat_minor": 5
}
